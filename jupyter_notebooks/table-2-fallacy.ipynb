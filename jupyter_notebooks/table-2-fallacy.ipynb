{
 "cells": [
  {
   "cell_type": "markdown",
   "id": "0626580c-9339-4638-b093-a004c9d352a7",
   "metadata": {},
   "source": [
    "# Table 2 fallacy\n",
    "\n",
    "This notebook was used to write the chapter entitled\n",
    "\"Table 2 Fallacy\" of my book Bayesuvius."
   ]
  },
  {
   "cell_type": "code",
   "execution_count": 1,
   "id": "0d51034e-f5f2-4baf-81b7-2b4dbc85cbd8",
   "metadata": {},
   "outputs": [
    {
     "name": "stdout",
     "output_type": "stream",
     "text": [
      "C:\\Users\\rrtuc\\Desktop\\backed-up\\python-projects\\scumpy\n"
     ]
    }
   ],
   "source": [
    "# this makes sure it starts looking for things from the scumpy folder down.\n",
    "import os\n",
    "import sys\n",
    "os.chdir('../')\n",
    "sys.path.insert(0,os.getcwd())\n",
    "print(os.getcwd())"
   ]
  },
  {
   "cell_type": "code",
   "execution_count": 2,
   "id": "9ac059ff-a891-4306-a205-3a50a7403075",
   "metadata": {},
   "outputs": [],
   "source": [
    "from Graph import *\n",
    "from CovMatCalculator import *"
   ]
  },
  {
   "cell_type": "code",
   "execution_count": 3,
   "id": "f6d0e873-7865-4d01-a4e5-388b05329fa6",
   "metadata": {},
   "outputs": [
    {
     "data": {
      "image/png": "[encoded data removed]",
      "text/plain": [
       "<IPython.core.display.Image object>"
      ]
     },
     "metadata": {},
     "output_type": "display_data"
    },
    {
     "name": "stdout",
     "output_type": "stream",
     "text": [
      " Eq(cov_0_0, ee_0_0)\t\n",
      "\n",
      " Eq(cov_0_1, alpha_1_L_0*ee_0_0)\t\n",
      "\n",
      " Eq(cov_0_2, ee_0_0*(alpha_1_L_0*alpha_2_L_1 + alpha_2_L_0))\t\n",
      "\n",
      " Eq(cov_1_0, alpha_1_L_0*ee_0_0)\t\n",
      "\n",
      " Eq(cov_1_1, alpha_1_L_0**2*ee_0_0 + ee_1_1)\t\n",
      "\n",
      " Eq(cov_1_2, alpha_1_L_0*ee_0_0*(alpha_1_L_0*alpha_2_L_1 + alpha_2_L_0) + alpha_2_L_1*ee_1_1)\t\n",
      "\n",
      " Eq(cov_2_0, ee_0_0*(alpha_1_L_0*alpha_2_L_1 + alpha_2_L_0))\t\n",
      "\n",
      " Eq(cov_2_1, alpha_1_L_0*ee_0_0*(alpha_1_L_0*alpha_2_L_1 + alpha_2_L_0) + alpha_2_L_1*ee_1_1)\t\n",
      "\n",
      " Eq(cov_2_2, alpha_2_L_1**2*ee_1_1 + ee_0_0*(alpha_1_L_0*alpha_2_L_1 + alpha_2_L_0)**2 + ee_2_2)\t\n",
      "\n",
      "\n",
      " \\begin{array}{l}\n",
      "\\sigma^2_{\\underline{Z}} = \\sigma^2_{\\underline{\\epsilon}_{\\underline{Z}}}\\quad\n",
      "\\\\\n",
      "\\left\\langle\\underline{Z},\\underline{X}\\right\\rangle = \\alpha_{\\underline{X}|\\underline{Z}} \\sigma^2_{\\underline{\\epsilon}_{\\underline{Z}}}\\quad\n",
      "\\\\\n",
      "\\left\\langle\\underline{Z},\\underline{Y}\\right\\rangle = \\sigma^2_{\\underline{\\epsilon}_{\\underline{Z}}} \\left(\\alpha_{\\underline{X}|\\underline{Z}} \\alpha_{\\underline{Y}|\\underline{X}} + \\alpha_{\\underline{Y}|\\underline{Z}}\\right)\\quad\n",
      "\\\\\n",
      "\\left\\langle\\underline{X},\\underline{Z}\\right\\rangle = \\alpha_{\\underline{X}|\\underline{Z}} \\sigma^2_{\\underline{\\epsilon}_{\\underline{Z}}}\\quad\n",
      "\\\\\n",
      "\\sigma^2_{\\underline{X}} = \\alpha_{\\underline{X}|\\underline{Z}}^{2} \\sigma^2_{\\underline{\\epsilon}_{\\underline{Z}}} + \\sigma^2_{\\underline{\\epsilon}_{\\underline{X}}}\\quad\n",
      "\\\\\n",
      "\\left\\langle\\underline{X},\\underline{Y}\\right\\rangle = \\alpha_{\\underline{X}|\\underline{Z}} \\sigma^2_{\\underline{\\epsilon}_{\\underline{Z}}} \\left(\\alpha_{\\underline{X}|\\underline{Z}} \\alpha_{\\underline{Y}|\\underline{X}} + \\alpha_{\\underline{Y}|\\underline{Z}}\\right) + \\alpha_{\\underline{Y}|\\underline{X}} \\sigma^2_{\\underline{\\epsilon}_{\\underline{X}}}\\quad\n",
      "\\\\\n",
      "\\left\\langle\\underline{Y},\\underline{Z}\\right\\rangle = \\sigma^2_{\\underline{\\epsilon}_{\\underline{Z}}} \\left(\\alpha_{\\underline{X}|\\underline{Z}} \\alpha_{\\underline{Y}|\\underline{X}} + \\alpha_{\\underline{Y}|\\underline{Z}}\\right)\\quad\n",
      "\\\\\n",
      "\\left\\langle\\underline{Y},\\underline{X}\\right\\rangle = \\alpha_{\\underline{X}|\\underline{Z}} \\sigma^2_{\\underline{\\epsilon}_{\\underline{Z}}} \\left(\\alpha_{\\underline{X}|\\underline{Z}} \\alpha_{\\underline{Y}|\\underline{X}} + \\alpha_{\\underline{Y}|\\underline{Z}}\\right) + \\alpha_{\\underline{Y}|\\underline{X}} \\sigma^2_{\\underline{\\epsilon}_{\\underline{X}}}\\quad\n",
      "\\\\\n",
      "\\sigma^2_{\\underline{Y}} = \\alpha_{\\underline{Y}|\\underline{X}}^{2} \\sigma^2_{\\underline{\\epsilon}_{\\underline{X}}} + \\sigma^2_{\\underline{\\epsilon}_{\\underline{Y}}} + \\sigma^2_{\\underline{\\epsilon}_{\\underline{Z}}} \\left(\\alpha_{\\underline{X}|\\underline{Z}} \\alpha_{\\underline{Y}|\\underline{X}} + \\alpha_{\\underline{Y}|\\underline{Z}}\\right)^{2}\\quad\n",
      "\\end{array}\n"
     ]
    },
    {
     "data": {
      "text/latex": [
       "$\\displaystyle \\begin{array}{l}\n",
       "\\sigma^2_{\\underline{Z}} = \\sigma^2_{\\underline{\\epsilon}_{\\underline{Z}}}\\quad\n",
       "\\\\\n",
       "\\left\\langle\\underline{Z},\\underline{X}\\right\\rangle = \\alpha_{\\underline{X}|\\underline{Z}} \\sigma^2_{\\underline{\\epsilon}_{\\underline{Z}}}\\quad\n",
       "\\\\\n",
       "\\left\\langle\\underline{Z},\\underline{Y}\\right\\rangle = \\sigma^2_{\\underline{\\epsilon}_{\\underline{Z}}} \\left(\\alpha_{\\underline{X}|\\underline{Z}} \\alpha_{\\underline{Y}|\\underline{X}} + \\alpha_{\\underline{Y}|\\underline{Z}}\\right)\\quad\n",
       "\\\\\n",
       "\\left\\langle\\underline{X},\\underline{Z}\\right\\rangle = \\alpha_{\\underline{X}|\\underline{Z}} \\sigma^2_{\\underline{\\epsilon}_{\\underline{Z}}}\\quad\n",
       "\\\\\n",
       "\\sigma^2_{\\underline{X}} = \\alpha_{\\underline{X}|\\underline{Z}}^{2} \\sigma^2_{\\underline{\\epsilon}_{\\underline{Z}}} + \\sigma^2_{\\underline{\\epsilon}_{\\underline{X}}}\\quad\n",
       "\\\\\n",
       "\\left\\langle\\underline{X},\\underline{Y}\\right\\rangle = \\alpha_{\\underline{X}|\\underline{Z}} \\sigma^2_{\\underline{\\epsilon}_{\\underline{Z}}} \\left(\\alpha_{\\underline{X}|\\underline{Z}} \\alpha_{\\underline{Y}|\\underline{X}} + \\alpha_{\\underline{Y}|\\underline{Z}}\\right) + \\alpha_{\\underline{Y}|\\underline{X}} \\sigma^2_{\\underline{\\epsilon}_{\\underline{X}}}\\quad\n",
       "\\\\\n",
       "\\left\\langle\\underline{Y},\\underline{Z}\\right\\rangle = \\sigma^2_{\\underline{\\epsilon}_{\\underline{Z}}} \\left(\\alpha_{\\underline{X}|\\underline{Z}} \\alpha_{\\underline{Y}|\\underline{X}} + \\alpha_{\\underline{Y}|\\underline{Z}}\\right)\\quad\n",
       "\\\\\n",
       "\\left\\langle\\underline{Y},\\underline{X}\\right\\rangle = \\alpha_{\\underline{X}|\\underline{Z}} \\sigma^2_{\\underline{\\epsilon}_{\\underline{Z}}} \\left(\\alpha_{\\underline{X}|\\underline{Z}} \\alpha_{\\underline{Y}|\\underline{X}} + \\alpha_{\\underline{Y}|\\underline{Z}}\\right) + \\alpha_{\\underline{Y}|\\underline{X}} \\sigma^2_{\\underline{\\epsilon}_{\\underline{X}}}\\quad\n",
       "\\\\\n",
       "\\sigma^2_{\\underline{Y}} = \\alpha_{\\underline{Y}|\\underline{X}}^{2} \\sigma^2_{\\underline{\\epsilon}_{\\underline{X}}} + \\sigma^2_{\\underline{\\epsilon}_{\\underline{Y}}} + \\sigma^2_{\\underline{\\epsilon}_{\\underline{Z}}} \\left(\\alpha_{\\underline{X}|\\underline{Z}} \\alpha_{\\underline{Y}|\\underline{X}} + \\alpha_{\\underline{Y}|\\underline{Z}}\\right)^{2}\\quad\n",
       "\\end{array}$"
      ],
      "text/plain": [
       "\\begin{array}{l}\n",
       "\\sigma^2_{\\underline{Z}} = \\sigma^2_{\\underline{\\epsilon}_{\\underline{Z}}}\\quad\n",
       "\\\\\n",
       "\\left\\langle\\underline{Z},\\underline{X}\\right\\rangle = \\alpha_{\\underline{X}|\\underline{Z}} \\sigma^2_{\\underline{\\epsilon}_{\\underline{Z}}}\\quad\n",
       "\\\\\n",
       "\\left\\langle\\underline{Z},\\underline{Y}\\right\\rangle = \\sigma^2_{\\underline{\\epsilon}_{\\underline{Z}}} \\left(\\alpha_{\\underline{X}|\\underline{Z}} \\alpha_{\\underline{Y}|\\underline{X}} + \\alpha_{\\underline{Y}|\\underline{Z}}\\right)\\quad\n",
       "\\\\\n",
       "\\left\\langle\\underline{X},\\underline{Z}\\right\\rangle = \\alpha_{\\underline{X}|\\underline{Z}} \\sigma^2_{\\underline{\\epsilon}_{\\underline{Z}}}\\quad\n",
       "\\\\\n",
       "\\sigma^2_{\\underline{X}} = \\alpha_{\\underline{X}|\\underline{Z}}^{2} \\sigma^2_{\\underline{\\epsilon}_{\\underline{Z}}} + \\sigma^2_{\\underline{\\epsilon}_{\\underline{X}}}\\quad\n",
       "\\\\\n",
       "\\left\\langle\\underline{X},\\underline{Y}\\right\\rangle = \\alpha_{\\underline{X}|\\underline{Z}} \\sigma^2_{\\underline{\\epsilon}_{\\underline{Z}}} \\left(\\alpha_{\\underline{X}|\\underline{Z}} \\alpha_{\\underline{Y}|\\underline{X}} + \\alpha_{\\underline{Y}|\\underline{Z}}\\right) + \\alpha_{\\underline{Y}|\\underline{X}} \\sigma^2_{\\underline{\\epsilon}_{\\underline{X}}}\\quad\n",
       "\\\\\n",
       "\\left\\langle\\underline{Y},\\underline{Z}\\right\\rangle = \\sigma^2_{\\underline{\\epsilon}_{\\underline{Z}}} \\left(\\alpha_{\\underline{X}|\\underline{Z}} \\alpha_{\\underline{Y}|\\underline{X}} + \\alpha_{\\underline{Y}|\\underline{Z}}\\right)\\quad\n",
       "\\\\\n",
       "\\left\\langle\\underline{Y},\\underline{X}\\right\\rangle = \\alpha_{\\underline{X}|\\underline{Z}} \\sigma^2_{\\underline{\\epsilon}_{\\underline{Z}}} \\left(\\alpha_{\\underline{X}|\\underline{Z}} \\alpha_{\\underline{Y}|\\underline{X}} + \\alpha_{\\underline{Y}|\\underline{Z}}\\right) + \\alpha_{\\underline{Y}|\\underline{X}} \\sigma^2_{\\underline{\\epsilon}_{\\underline{X}}}\\quad\n",
       "\\\\\n",
       "\\sigma^2_{\\underline{Y}} = \\alpha_{\\underline{Y}|\\underline{X}}^{2} \\sigma^2_{\\underline{\\epsilon}_{\\underline{X}}} + \\sigma^2_{\\underline{\\epsilon}_{\\underline{Y}}} + \\sigma^2_{\\underline{\\epsilon}_{\\underline{Z}}} \\left(\\alpha_{\\underline{X}|\\underline{Z}} \\alpha_{\\underline{Y}|\\underline{X}} + \\alpha_{\\underline{Y}|\\underline{Z}}\\right)^{2}\\quad\n",
       "\\end{array}"
      ]
     },
     "execution_count": 3,
     "metadata": {},
     "output_type": "execute_result"
    }
   ],
   "source": [
    "path = 'dot_atlas/table-2-fallacy-GZ.dot'\n",
    "graph = Graph(path)\n",
    "graph.draw(jupyter=True)\n",
    "cal = CovMatCalculator(graph)\n",
    "cal.calculate_cov_mat()\n",
    "cal.print_cov_mat(verbose=True)"
   ]
  },
  {
   "cell_type": "code",
   "execution_count": 4,
   "id": "83a8ab8d-1239-4127-b1f6-6f33b6bac8fa",
   "metadata": {},
   "outputs": [
    {
     "data": {
      "image/png": "[encoded data removed]",
      "text/plain": [
       "<IPython.core.display.Image object>"
      ]
     },
     "metadata": {},
     "output_type": "display_data"
    },
    {
     "name": "stdout",
     "output_type": "stream",
     "text": [
      " Eq(cov_0_0, ee_0_0)\t\n",
      "\n",
      " Eq(cov_0_1, alpha_1_L_0*ee_0_0)\t\n",
      "\n",
      " Eq(cov_0_2, ee_0_0*(alpha_1_L_0*alpha_2_L_1 + alpha_2_L_0))\t\n",
      "\n",
      " Eq(cov_1_0, alpha_1_L_0*ee_0_0)\t\n",
      "\n",
      " Eq(cov_1_1, alpha_1_L_0**2*ee_0_0 + ee_1_1)\t\n",
      "\n",
      " Eq(cov_1_2, alpha_1_L_0*ee_0_0*(alpha_1_L_0*alpha_2_L_1 + alpha_2_L_0) + alpha_2_L_1*ee_1_1)\t\n",
      "\n",
      " Eq(cov_2_0, ee_0_0*(alpha_1_L_0*alpha_2_L_1 + alpha_2_L_0))\t\n",
      "\n",
      " Eq(cov_2_1, alpha_1_L_0*ee_0_0*(alpha_1_L_0*alpha_2_L_1 + alpha_2_L_0) + alpha_2_L_1*ee_1_1)\t\n",
      "\n",
      " Eq(cov_2_2, alpha_2_L_1**2*ee_1_1 + ee_0_0*(alpha_1_L_0*alpha_2_L_1 + alpha_2_L_0)**2 + ee_2_2)\t\n",
      "\n",
      "\n",
      " \\begin{array}{l}\n",
      "\\sigma^2_{\\underline{X}} = \\sigma^2_{\\underline{\\epsilon}_{\\underline{X}}}\\quad\n",
      "\\\\\n",
      "\\left\\langle\\underline{X},\\underline{M}\\right\\rangle = \\alpha_{\\underline{M}|\\underline{X}} \\sigma^2_{\\underline{\\epsilon}_{\\underline{X}}}\\quad\n",
      "\\\\\n",
      "\\left\\langle\\underline{X},\\underline{Y}\\right\\rangle = \\sigma^2_{\\underline{\\epsilon}_{\\underline{X}}} \\left(\\alpha_{\\underline{M}|\\underline{X}} \\alpha_{\\underline{Y}|\\underline{M}} + \\alpha_{\\underline{Y}|\\underline{X}}\\right)\\quad\n",
      "\\\\\n",
      "\\left\\langle\\underline{M},\\underline{X}\\right\\rangle = \\alpha_{\\underline{M}|\\underline{X}} \\sigma^2_{\\underline{\\epsilon}_{\\underline{X}}}\\quad\n",
      "\\\\\n",
      "\\sigma^2_{\\underline{M}} = \\alpha_{\\underline{M}|\\underline{X}}^{2} \\sigma^2_{\\underline{\\epsilon}_{\\underline{X}}} + \\sigma^2_{\\underline{\\epsilon}_{\\underline{M}}}\\quad\n",
      "\\\\\n",
      "\\left\\langle\\underline{M},\\underline{Y}\\right\\rangle = \\alpha_{\\underline{M}|\\underline{X}} \\sigma^2_{\\underline{\\epsilon}_{\\underline{X}}} \\left(\\alpha_{\\underline{M}|\\underline{X}} \\alpha_{\\underline{Y}|\\underline{M}} + \\alpha_{\\underline{Y}|\\underline{X}}\\right) + \\alpha_{\\underline{Y}|\\underline{M}} \\sigma^2_{\\underline{\\epsilon}_{\\underline{M}}}\\quad\n",
      "\\\\\n",
      "\\left\\langle\\underline{Y},\\underline{X}\\right\\rangle = \\sigma^2_{\\underline{\\epsilon}_{\\underline{X}}} \\left(\\alpha_{\\underline{M}|\\underline{X}} \\alpha_{\\underline{Y}|\\underline{M}} + \\alpha_{\\underline{Y}|\\underline{X}}\\right)\\quad\n",
      "\\\\\n",
      "\\left\\langle\\underline{Y},\\underline{M}\\right\\rangle = \\alpha_{\\underline{M}|\\underline{X}} \\sigma^2_{\\underline{\\epsilon}_{\\underline{X}}} \\left(\\alpha_{\\underline{M}|\\underline{X}} \\alpha_{\\underline{Y}|\\underline{M}} + \\alpha_{\\underline{Y}|\\underline{X}}\\right) + \\alpha_{\\underline{Y}|\\underline{M}} \\sigma^2_{\\underline{\\epsilon}_{\\underline{M}}}\\quad\n",
      "\\\\\n",
      "\\sigma^2_{\\underline{Y}} = \\alpha_{\\underline{Y}|\\underline{M}}^{2} \\sigma^2_{\\underline{\\epsilon}_{\\underline{M}}} + \\sigma^2_{\\underline{\\epsilon}_{\\underline{X}}} \\left(\\alpha_{\\underline{M}|\\underline{X}} \\alpha_{\\underline{Y}|\\underline{M}} + \\alpha_{\\underline{Y}|\\underline{X}}\\right)^{2} + \\sigma^2_{\\underline{\\epsilon}_{\\underline{Y}}}\\quad\n",
      "\\end{array}\n"
     ]
    },
    {
     "data": {
      "text/latex": [
       "$\\displaystyle \\begin{array}{l}\n",
       "\\sigma^2_{\\underline{X}} = \\sigma^2_{\\underline{\\epsilon}_{\\underline{X}}}\\quad\n",
       "\\\\\n",
       "\\left\\langle\\underline{X},\\underline{M}\\right\\rangle = \\alpha_{\\underline{M}|\\underline{X}} \\sigma^2_{\\underline{\\epsilon}_{\\underline{X}}}\\quad\n",
       "\\\\\n",
       "\\left\\langle\\underline{X},\\underline{Y}\\right\\rangle = \\sigma^2_{\\underline{\\epsilon}_{\\underline{X}}} \\left(\\alpha_{\\underline{M}|\\underline{X}} \\alpha_{\\underline{Y}|\\underline{M}} + \\alpha_{\\underline{Y}|\\underline{X}}\\right)\\quad\n",
       "\\\\\n",
       "\\left\\langle\\underline{M},\\underline{X}\\right\\rangle = \\alpha_{\\underline{M}|\\underline{X}} \\sigma^2_{\\underline{\\epsilon}_{\\underline{X}}}\\quad\n",
       "\\\\\n",
       "\\sigma^2_{\\underline{M}} = \\alpha_{\\underline{M}|\\underline{X}}^{2} \\sigma^2_{\\underline{\\epsilon}_{\\underline{X}}} + \\sigma^2_{\\underline{\\epsilon}_{\\underline{M}}}\\quad\n",
       "\\\\\n",
       "\\left\\langle\\underline{M},\\underline{Y}\\right\\rangle = \\alpha_{\\underline{M}|\\underline{X}} \\sigma^2_{\\underline{\\epsilon}_{\\underline{X}}} \\left(\\alpha_{\\underline{M}|\\underline{X}} \\alpha_{\\underline{Y}|\\underline{M}} + \\alpha_{\\underline{Y}|\\underline{X}}\\right) + \\alpha_{\\underline{Y}|\\underline{M}} \\sigma^2_{\\underline{\\epsilon}_{\\underline{M}}}\\quad\n",
       "\\\\\n",
       "\\left\\langle\\underline{Y},\\underline{X}\\right\\rangle = \\sigma^2_{\\underline{\\epsilon}_{\\underline{X}}} \\left(\\alpha_{\\underline{M}|\\underline{X}} \\alpha_{\\underline{Y}|\\underline{M}} + \\alpha_{\\underline{Y}|\\underline{X}}\\right)\\quad\n",
       "\\\\\n",
       "\\left\\langle\\underline{Y},\\underline{M}\\right\\rangle = \\alpha_{\\underline{M}|\\underline{X}} \\sigma^2_{\\underline{\\epsilon}_{\\underline{X}}} \\left(\\alpha_{\\underline{M}|\\underline{X}} \\alpha_{\\underline{Y}|\\underline{M}} + \\alpha_{\\underline{Y}|\\underline{X}}\\right) + \\alpha_{\\underline{Y}|\\underline{M}} \\sigma^2_{\\underline{\\epsilon}_{\\underline{M}}}\\quad\n",
       "\\\\\n",
       "\\sigma^2_{\\underline{Y}} = \\alpha_{\\underline{Y}|\\underline{M}}^{2} \\sigma^2_{\\underline{\\epsilon}_{\\underline{M}}} + \\sigma^2_{\\underline{\\epsilon}_{\\underline{X}}} \\left(\\alpha_{\\underline{M}|\\underline{X}} \\alpha_{\\underline{Y}|\\underline{M}} + \\alpha_{\\underline{Y}|\\underline{X}}\\right)^{2} + \\sigma^2_{\\underline{\\epsilon}_{\\underline{Y}}}\\quad\n",
       "\\end{array}$"
      ],
      "text/plain": [
       "\\begin{array}{l}\n",
       "\\sigma^2_{\\underline{X}} = \\sigma^2_{\\underline{\\epsilon}_{\\underline{X}}}\\quad\n",
       "\\\\\n",
       "\\left\\langle\\underline{X},\\underline{M}\\right\\rangle = \\alpha_{\\underline{M}|\\underline{X}} \\sigma^2_{\\underline{\\epsilon}_{\\underline{X}}}\\quad\n",
       "\\\\\n",
       "\\left\\langle\\underline{X},\\underline{Y}\\right\\rangle = \\sigma^2_{\\underline{\\epsilon}_{\\underline{X}}} \\left(\\alpha_{\\underline{M}|\\underline{X}} \\alpha_{\\underline{Y}|\\underline{M}} + \\alpha_{\\underline{Y}|\\underline{X}}\\right)\\quad\n",
       "\\\\\n",
       "\\left\\langle\\underline{M},\\underline{X}\\right\\rangle = \\alpha_{\\underline{M}|\\underline{X}} \\sigma^2_{\\underline{\\epsilon}_{\\underline{X}}}\\quad\n",
       "\\\\\n",
       "\\sigma^2_{\\underline{M}} = \\alpha_{\\underline{M}|\\underline{X}}^{2} \\sigma^2_{\\underline{\\epsilon}_{\\underline{X}}} + \\sigma^2_{\\underline{\\epsilon}_{\\underline{M}}}\\quad\n",
       "\\\\\n",
       "\\left\\langle\\underline{M},\\underline{Y}\\right\\rangle = \\alpha_{\\underline{M}|\\underline{X}} \\sigma^2_{\\underline{\\epsilon}_{\\underline{X}}} \\left(\\alpha_{\\underline{M}|\\underline{X}} \\alpha_{\\underline{Y}|\\underline{M}} + \\alpha_{\\underline{Y}|\\underline{X}}\\right) + \\alpha_{\\underline{Y}|\\underline{M}} \\sigma^2_{\\underline{\\epsilon}_{\\underline{M}}}\\quad\n",
       "\\\\\n",
       "\\left\\langle\\underline{Y},\\underline{X}\\right\\rangle = \\sigma^2_{\\underline{\\epsilon}_{\\underline{X}}} \\left(\\alpha_{\\underline{M}|\\underline{X}} \\alpha_{\\underline{Y}|\\underline{M}} + \\alpha_{\\underline{Y}|\\underline{X}}\\right)\\quad\n",
       "\\\\\n",
       "\\left\\langle\\underline{Y},\\underline{M}\\right\\rangle = \\alpha_{\\underline{M}|\\underline{X}} \\sigma^2_{\\underline{\\epsilon}_{\\underline{X}}} \\left(\\alpha_{\\underline{M}|\\underline{X}} \\alpha_{\\underline{Y}|\\underline{M}} + \\alpha_{\\underline{Y}|\\underline{X}}\\right) + \\alpha_{\\underline{Y}|\\underline{M}} \\sigma^2_{\\underline{\\epsilon}_{\\underline{M}}}\\quad\n",
       "\\\\\n",
       "\\sigma^2_{\\underline{Y}} = \\alpha_{\\underline{Y}|\\underline{M}}^{2} \\sigma^2_{\\underline{\\epsilon}_{\\underline{M}}} + \\sigma^2_{\\underline{\\epsilon}_{\\underline{X}}} \\left(\\alpha_{\\underline{M}|\\underline{X}} \\alpha_{\\underline{Y}|\\underline{M}} + \\alpha_{\\underline{Y}|\\underline{X}}\\right)^{2} + \\sigma^2_{\\underline{\\epsilon}_{\\underline{Y}}}\\quad\n",
       "\\end{array}"
      ]
     },
     "execution_count": 4,
     "metadata": {},
     "output_type": "execute_result"
    }
   ],
   "source": [
    "path = 'dot_atlas/table-2-fallacy-GM.dot'\n",
    "graph = Graph(path)\n",
    "graph.draw(jupyter=True)\n",
    "cal = CovMatCalculator(graph)\n",
    "cal.calculate_cov_mat()\n",
    "cal.print_cov_mat(verbose=True)"
   ]
  },
  {
   "cell_type": "code",
   "execution_count": 5,
   "id": "fd03e9eb-42bd-4979-933a-67ee173ad338",
   "metadata": {
    "tags": []
   },
   "outputs": [
    {
     "data": {
      "image/png": "[encoded data removed]",
      "text/plain": [
       "<IPython.core.display.Image object>"
      ]
     },
     "metadata": {},
     "output_type": "display_data"
    },
    {
     "name": "stdout",
     "output_type": "stream",
     "text": [
      " Eq(cov_0_0, ee_0_0)\t\n",
      "\n",
      " Eq(cov_0_1, alpha_1_L_0*ee_0_0)\t\n",
      "\n",
      " Eq(cov_0_2, alpha_1_L_0*alpha_2_L_1*ee_0_0)\t\n",
      "\n",
      " Eq(cov_0_3, ee_0_0*(alpha_1_L_0*alpha_2_L_1*alpha_3_L_2 + alpha_1_L_0*alpha_3_L_1 + alpha_3_L_0))\t\n",
      "\n",
      " Eq(cov_1_0, alpha_1_L_0*ee_0_0)\t\n",
      "\n",
      " Eq(cov_1_1, alpha_1_L_0**2*ee_0_0 + ee_1_1)\t\n",
      "\n",
      " Eq(cov_1_2, alpha_2_L_1*(alpha_1_L_0**2*ee_0_0 + ee_1_1))\t\n",
      "\n",
      " Eq(cov_1_3, alpha_1_L_0*ee_0_0*(alpha_1_L_0*alpha_2_L_1*alpha_3_L_2 + alpha_1_L_0*alpha_3_L_1 + alpha_3_L_0) + ee_1_1*(alpha_2_L_1*alpha_3_L_2 + alpha_3_L_1))\t\n",
      "\n",
      " Eq(cov_2_0, alpha_1_L_0*alpha_2_L_1*ee_0_0)\t\n",
      "\n",
      " Eq(cov_2_1, alpha_2_L_1*(alpha_1_L_0**2*ee_0_0 + ee_1_1))\t\n",
      "\n",
      " Eq(cov_2_2, alpha_1_L_0**2*alpha_2_L_1**2*ee_0_0 + alpha_2_L_1**2*ee_1_1 + ee_2_2)\t\n",
      "\n",
      " Eq(cov_2_3, alpha_1_L_0*alpha_2_L_1*ee_0_0*(alpha_1_L_0*alpha_2_L_1*alpha_3_L_2 + alpha_1_L_0*alpha_3_L_1 + alpha_3_L_0) + alpha_2_L_1*ee_1_1*(alpha_2_L_1*alpha_3_L_2 + alpha_3_L_1) + alpha_3_L_2*ee_2_2)\t\n",
      "\n",
      " Eq(cov_3_0, ee_0_0*(alpha_1_L_0*alpha_2_L_1*alpha_3_L_2 + alpha_1_L_0*alpha_3_L_1 + alpha_3_L_0))\t\n",
      "\n",
      " Eq(cov_3_1, alpha_1_L_0*ee_0_0*(alpha_1_L_0*alpha_2_L_1*alpha_3_L_2 + alpha_1_L_0*alpha_3_L_1 + alpha_3_L_0) + ee_1_1*(alpha_2_L_1*alpha_3_L_2 + alpha_3_L_1))\t\n",
      "\n",
      " Eq(cov_3_2, alpha_1_L_0*alpha_2_L_1*ee_0_0*(alpha_1_L_0*alpha_2_L_1*alpha_3_L_2 + alpha_1_L_0*alpha_3_L_1 + alpha_3_L_0) + alpha_2_L_1*ee_1_1*(alpha_2_L_1*alpha_3_L_2 + alpha_3_L_1) + alpha_3_L_2*ee_2_2)\t\n",
      "\n",
      " Eq(cov_3_3, alpha_3_L_2**2*ee_2_2 + ee_0_0*(alpha_1_L_0*alpha_2_L_1*alpha_3_L_2 + alpha_1_L_0*alpha_3_L_1 + alpha_3_L_0)**2 + ee_1_1*(alpha_2_L_1*alpha_3_L_2 + alpha_3_L_1)**2 + ee_3_3)\t\n",
      "\n",
      "\n",
      " \\begin{array}{l}\n",
      "\\sigma^2_{\\underline{Z}} = \\sigma^2_{\\underline{\\epsilon}_{\\underline{Z}}}\\quad\n",
      "\\\\\n",
      "\\left\\langle\\underline{Z},\\underline{X}\\right\\rangle = \\alpha_{\\underline{X}|\\underline{Z}} \\sigma^2_{\\underline{\\epsilon}_{\\underline{Z}}}\\quad\n",
      "\\\\\n",
      "\\left\\langle\\underline{Z},\\underline{M}\\right\\rangle = \\alpha_{\\underline{M}|\\underline{X}} \\alpha_{\\underline{X}|\\underline{Z}} \\sigma^2_{\\underline{\\epsilon}_{\\underline{Z}}}\\quad\n",
      "\\\\\n",
      "\\left\\langle\\underline{Z},\\underline{Y}\\right\\rangle = \\sigma^2_{\\underline{\\epsilon}_{\\underline{Z}}} \\left(\\alpha_{\\underline{M}|\\underline{X}} \\alpha_{\\underline{X}|\\underline{Z}} \\alpha_{\\underline{Y}|\\underline{M}} + \\alpha_{\\underline{X}|\\underline{Z}} \\alpha_{\\underline{Y}|\\underline{X}} + \\alpha_{\\underline{Y}|\\underline{Z}}\\right)\\quad\n",
      "\\\\\n",
      "\\left\\langle\\underline{X},\\underline{Z}\\right\\rangle = \\alpha_{\\underline{X}|\\underline{Z}} \\sigma^2_{\\underline{\\epsilon}_{\\underline{Z}}}\\quad\n",
      "\\\\\n",
      "\\sigma^2_{\\underline{X}} = \\alpha_{\\underline{X}|\\underline{Z}}^{2} \\sigma^2_{\\underline{\\epsilon}_{\\underline{Z}}} + \\sigma^2_{\\underline{\\epsilon}_{\\underline{X}}}\\quad\n",
      "\\\\\n",
      "\\left\\langle\\underline{X},\\underline{M}\\right\\rangle = \\alpha_{\\underline{M}|\\underline{X}} \\left(\\alpha_{\\underline{X}|\\underline{Z}}^{2} \\sigma^2_{\\underline{\\epsilon}_{\\underline{Z}}} + \\sigma^2_{\\underline{\\epsilon}_{\\underline{X}}}\\right)\\quad\n",
      "\\\\\n",
      "\\left\\langle\\underline{X},\\underline{Y}\\right\\rangle = \\alpha_{\\underline{X}|\\underline{Z}} \\sigma^2_{\\underline{\\epsilon}_{\\underline{Z}}} \\left(\\alpha_{\\underline{M}|\\underline{X}} \\alpha_{\\underline{X}|\\underline{Z}} \\alpha_{\\underline{Y}|\\underline{M}} + \\alpha_{\\underline{X}|\\underline{Z}} \\alpha_{\\underline{Y}|\\underline{X}} + \\alpha_{\\underline{Y}|\\underline{Z}}\\right) + \\sigma^2_{\\underline{\\epsilon}_{\\underline{X}}} \\left(\\alpha_{\\underline{M}|\\underline{X}} \\alpha_{\\underline{Y}|\\underline{M}} + \\alpha_{\\underline{Y}|\\underline{X}}\\right)\\quad\n",
      "\\\\\n",
      "\\left\\langle\\underline{M},\\underline{Z}\\right\\rangle = \\alpha_{\\underline{M}|\\underline{X}} \\alpha_{\\underline{X}|\\underline{Z}} \\sigma^2_{\\underline{\\epsilon}_{\\underline{Z}}}\\quad\n",
      "\\\\\n",
      "\\left\\langle\\underline{M},\\underline{X}\\right\\rangle = \\alpha_{\\underline{M}|\\underline{X}} \\left(\\alpha_{\\underline{X}|\\underline{Z}}^{2} \\sigma^2_{\\underline{\\epsilon}_{\\underline{Z}}} + \\sigma^2_{\\underline{\\epsilon}_{\\underline{X}}}\\right)\\quad\n",
      "\\\\\n",
      "\\sigma^2_{\\underline{M}} = \\alpha_{\\underline{M}|\\underline{X}}^{2} \\alpha_{\\underline{X}|\\underline{Z}}^{2} \\sigma^2_{\\underline{\\epsilon}_{\\underline{Z}}} + \\alpha_{\\underline{M}|\\underline{X}}^{2} \\sigma^2_{\\underline{\\epsilon}_{\\underline{X}}} + \\sigma^2_{\\underline{\\epsilon}_{\\underline{M}}}\\quad\n",
      "\\\\\n",
      "\\left\\langle\\underline{M},\\underline{Y}\\right\\rangle = \\alpha_{\\underline{M}|\\underline{X}} \\alpha_{\\underline{X}|\\underline{Z}} \\sigma^2_{\\underline{\\epsilon}_{\\underline{Z}}} \\left(\\alpha_{\\underline{M}|\\underline{X}} \\alpha_{\\underline{X}|\\underline{Z}} \\alpha_{\\underline{Y}|\\underline{M}} + \\alpha_{\\underline{X}|\\underline{Z}} \\alpha_{\\underline{Y}|\\underline{X}} + \\alpha_{\\underline{Y}|\\underline{Z}}\\right) + \\alpha_{\\underline{M}|\\underline{X}} \\sigma^2_{\\underline{\\epsilon}_{\\underline{X}}} \\left(\\alpha_{\\underline{M}|\\underline{X}} \\alpha_{\\underline{Y}|\\underline{M}} + \\alpha_{\\underline{Y}|\\underline{X}}\\right) + \\alpha_{\\underline{Y}|\\underline{M}} \\sigma^2_{\\underline{\\epsilon}_{\\underline{M}}}\\quad\n",
      "\\\\\n",
      "\\left\\langle\\underline{Y},\\underline{Z}\\right\\rangle = \\sigma^2_{\\underline{\\epsilon}_{\\underline{Z}}} \\left(\\alpha_{\\underline{M}|\\underline{X}} \\alpha_{\\underline{X}|\\underline{Z}} \\alpha_{\\underline{Y}|\\underline{M}} + \\alpha_{\\underline{X}|\\underline{Z}} \\alpha_{\\underline{Y}|\\underline{X}} + \\alpha_{\\underline{Y}|\\underline{Z}}\\right)\\quad\n",
      "\\\\\n",
      "\\left\\langle\\underline{Y},\\underline{X}\\right\\rangle = \\alpha_{\\underline{X}|\\underline{Z}} \\sigma^2_{\\underline{\\epsilon}_{\\underline{Z}}} \\left(\\alpha_{\\underline{M}|\\underline{X}} \\alpha_{\\underline{X}|\\underline{Z}} \\alpha_{\\underline{Y}|\\underline{M}} + \\alpha_{\\underline{X}|\\underline{Z}} \\alpha_{\\underline{Y}|\\underline{X}} + \\alpha_{\\underline{Y}|\\underline{Z}}\\right) + \\sigma^2_{\\underline{\\epsilon}_{\\underline{X}}} \\left(\\alpha_{\\underline{M}|\\underline{X}} \\alpha_{\\underline{Y}|\\underline{M}} + \\alpha_{\\underline{Y}|\\underline{X}}\\right)\\quad\n",
      "\\\\\n",
      "\\left\\langle\\underline{Y},\\underline{M}\\right\\rangle = \\alpha_{\\underline{M}|\\underline{X}} \\alpha_{\\underline{X}|\\underline{Z}} \\sigma^2_{\\underline{\\epsilon}_{\\underline{Z}}} \\left(\\alpha_{\\underline{M}|\\underline{X}} \\alpha_{\\underline{X}|\\underline{Z}} \\alpha_{\\underline{Y}|\\underline{M}} + \\alpha_{\\underline{X}|\\underline{Z}} \\alpha_{\\underline{Y}|\\underline{X}} + \\alpha_{\\underline{Y}|\\underline{Z}}\\right) + \\alpha_{\\underline{M}|\\underline{X}} \\sigma^2_{\\underline{\\epsilon}_{\\underline{X}}} \\left(\\alpha_{\\underline{M}|\\underline{X}} \\alpha_{\\underline{Y}|\\underline{M}} + \\alpha_{\\underline{Y}|\\underline{X}}\\right) + \\alpha_{\\underline{Y}|\\underline{M}} \\sigma^2_{\\underline{\\epsilon}_{\\underline{M}}}\\quad\n",
      "\\\\\n",
      "\\sigma^2_{\\underline{Y}} = \\alpha_{\\underline{Y}|\\underline{M}}^{2} \\sigma^2_{\\underline{\\epsilon}_{\\underline{M}}} + \\sigma^2_{\\underline{\\epsilon}_{\\underline{X}}} \\left(\\alpha_{\\underline{M}|\\underline{X}} \\alpha_{\\underline{Y}|\\underline{M}} + \\alpha_{\\underline{Y}|\\underline{X}}\\right)^{2} + \\sigma^2_{\\underline{\\epsilon}_{\\underline{Y}}} + \\sigma^2_{\\underline{\\epsilon}_{\\underline{Z}}} \\left(\\alpha_{\\underline{M}|\\underline{X}} \\alpha_{\\underline{X}|\\underline{Z}} \\alpha_{\\underline{Y}|\\underline{M}} + \\alpha_{\\underline{X}|\\underline{Z}} \\alpha_{\\underline{Y}|\\underline{X}} + \\alpha_{\\underline{Y}|\\underline{Z}}\\right)^{2}\\quad\n",
      "\\end{array}\n"
     ]
    },
    {
     "data": {
      "text/latex": [
       "$\\displaystyle \\begin{array}{l}\n",
       "\\sigma^2_{\\underline{Z}} = \\sigma^2_{\\underline{\\epsilon}_{\\underline{Z}}}\\quad\n",
       "\\\\\n",
       "\\left\\langle\\underline{Z},\\underline{X}\\right\\rangle = \\alpha_{\\underline{X}|\\underline{Z}} \\sigma^2_{\\underline{\\epsilon}_{\\underline{Z}}}\\quad\n",
       "\\\\\n",
       "\\left\\langle\\underline{Z},\\underline{M}\\right\\rangle = \\alpha_{\\underline{M}|\\underline{X}} \\alpha_{\\underline{X}|\\underline{Z}} \\sigma^2_{\\underline{\\epsilon}_{\\underline{Z}}}\\quad\n",
       "\\\\\n",
       "\\left\\langle\\underline{Z},\\underline{Y}\\right\\rangle = \\sigma^2_{\\underline{\\epsilon}_{\\underline{Z}}} \\left(\\alpha_{\\underline{M}|\\underline{X}} \\alpha_{\\underline{X}|\\underline{Z}} \\alpha_{\\underline{Y}|\\underline{M}} + \\alpha_{\\underline{X}|\\underline{Z}} \\alpha_{\\underline{Y}|\\underline{X}} + \\alpha_{\\underline{Y}|\\underline{Z}}\\right)\\quad\n",
       "\\\\\n",
       "\\left\\langle\\underline{X},\\underline{Z}\\right\\rangle = \\alpha_{\\underline{X}|\\underline{Z}} \\sigma^2_{\\underline{\\epsilon}_{\\underline{Z}}}\\quad\n",
       "\\\\\n",
       "\\sigma^2_{\\underline{X}} = \\alpha_{\\underline{X}|\\underline{Z}}^{2} \\sigma^2_{\\underline{\\epsilon}_{\\underline{Z}}} + \\sigma^2_{\\underline{\\epsilon}_{\\underline{X}}}\\quad\n",
       "\\\\\n",
       "\\left\\langle\\underline{X},\\underline{M}\\right\\rangle = \\alpha_{\\underline{M}|\\underline{X}} \\left(\\alpha_{\\underline{X}|\\underline{Z}}^{2} \\sigma^2_{\\underline{\\epsilon}_{\\underline{Z}}} + \\sigma^2_{\\underline{\\epsilon}_{\\underline{X}}}\\right)\\quad\n",
       "\\\\\n",
       "\\left\\langle\\underline{X},\\underline{Y}\\right\\rangle = \\alpha_{\\underline{X}|\\underline{Z}} \\sigma^2_{\\underline{\\epsilon}_{\\underline{Z}}} \\left(\\alpha_{\\underline{M}|\\underline{X}} \\alpha_{\\underline{X}|\\underline{Z}} \\alpha_{\\underline{Y}|\\underline{M}} + \\alpha_{\\underline{X}|\\underline{Z}} \\alpha_{\\underline{Y}|\\underline{X}} + \\alpha_{\\underline{Y}|\\underline{Z}}\\right) + \\sigma^2_{\\underline{\\epsilon}_{\\underline{X}}} \\left(\\alpha_{\\underline{M}|\\underline{X}} \\alpha_{\\underline{Y}|\\underline{M}} + \\alpha_{\\underline{Y}|\\underline{X}}\\right)\\quad\n",
       "\\\\\n",
       "\\left\\langle\\underline{M},\\underline{Z}\\right\\rangle = \\alpha_{\\underline{M}|\\underline{X}} \\alpha_{\\underline{X}|\\underline{Z}} \\sigma^2_{\\underline{\\epsilon}_{\\underline{Z}}}\\quad\n",
       "\\\\\n",
       "\\left\\langle\\underline{M},\\underline{X}\\right\\rangle = \\alpha_{\\underline{M}|\\underline{X}} \\left(\\alpha_{\\underline{X}|\\underline{Z}}^{2} \\sigma^2_{\\underline{\\epsilon}_{\\underline{Z}}} + \\sigma^2_{\\underline{\\epsilon}_{\\underline{X}}}\\right)\\quad\n",
       "\\\\\n",
       "\\sigma^2_{\\underline{M}} = \\alpha_{\\underline{M}|\\underline{X}}^{2} \\alpha_{\\underline{X}|\\underline{Z}}^{2} \\sigma^2_{\\underline{\\epsilon}_{\\underline{Z}}} + \\alpha_{\\underline{M}|\\underline{X}}^{2} \\sigma^2_{\\underline{\\epsilon}_{\\underline{X}}} + \\sigma^2_{\\underline{\\epsilon}_{\\underline{M}}}\\quad\n",
       "\\\\\n",
       "\\left\\langle\\underline{M},\\underline{Y}\\right\\rangle = \\alpha_{\\underline{M}|\\underline{X}} \\alpha_{\\underline{X}|\\underline{Z}} \\sigma^2_{\\underline{\\epsilon}_{\\underline{Z}}} \\left(\\alpha_{\\underline{M}|\\underline{X}} \\alpha_{\\underline{X}|\\underline{Z}} \\alpha_{\\underline{Y}|\\underline{M}} + \\alpha_{\\underline{X}|\\underline{Z}} \\alpha_{\\underline{Y}|\\underline{X}} + \\alpha_{\\underline{Y}|\\underline{Z}}\\right) + \\alpha_{\\underline{M}|\\underline{X}} \\sigma^2_{\\underline{\\epsilon}_{\\underline{X}}} \\left(\\alpha_{\\underline{M}|\\underline{X}} \\alpha_{\\underline{Y}|\\underline{M}} + \\alpha_{\\underline{Y}|\\underline{X}}\\right) + \\alpha_{\\underline{Y}|\\underline{M}} \\sigma^2_{\\underline{\\epsilon}_{\\underline{M}}}\\quad\n",
       "\\\\\n",
       "\\left\\langle\\underline{Y},\\underline{Z}\\right\\rangle = \\sigma^2_{\\underline{\\epsilon}_{\\underline{Z}}} \\left(\\alpha_{\\underline{M}|\\underline{X}} \\alpha_{\\underline{X}|\\underline{Z}} \\alpha_{\\underline{Y}|\\underline{M}} + \\alpha_{\\underline{X}|\\underline{Z}} \\alpha_{\\underline{Y}|\\underline{X}} + \\alpha_{\\underline{Y}|\\underline{Z}}\\right)\\quad\n",
       "\\\\\n",
       "\\left\\langle\\underline{Y},\\underline{X}\\right\\rangle = \\alpha_{\\underline{X}|\\underline{Z}} \\sigma^2_{\\underline{\\epsilon}_{\\underline{Z}}} \\left(\\alpha_{\\underline{M}|\\underline{X}} \\alpha_{\\underline{X}|\\underline{Z}} \\alpha_{\\underline{Y}|\\underline{M}} + \\alpha_{\\underline{X}|\\underline{Z}} \\alpha_{\\underline{Y}|\\underline{X}} + \\alpha_{\\underline{Y}|\\underline{Z}}\\right) + \\sigma^2_{\\underline{\\epsilon}_{\\underline{X}}} \\left(\\alpha_{\\underline{M}|\\underline{X}} \\alpha_{\\underline{Y}|\\underline{M}} + \\alpha_{\\underline{Y}|\\underline{X}}\\right)\\quad\n",
       "\\\\\n",
       "\\left\\langle\\underline{Y},\\underline{M}\\right\\rangle = \\alpha_{\\underline{M}|\\underline{X}} \\alpha_{\\underline{X}|\\underline{Z}} \\sigma^2_{\\underline{\\epsilon}_{\\underline{Z}}} \\left(\\alpha_{\\underline{M}|\\underline{X}} \\alpha_{\\underline{X}|\\underline{Z}} \\alpha_{\\underline{Y}|\\underline{M}} + \\alpha_{\\underline{X}|\\underline{Z}} \\alpha_{\\underline{Y}|\\underline{X}} + \\alpha_{\\underline{Y}|\\underline{Z}}\\right) + \\alpha_{\\underline{M}|\\underline{X}} \\sigma^2_{\\underline{\\epsilon}_{\\underline{X}}} \\left(\\alpha_{\\underline{M}|\\underline{X}} \\alpha_{\\underline{Y}|\\underline{M}} + \\alpha_{\\underline{Y}|\\underline{X}}\\right) + \\alpha_{\\underline{Y}|\\underline{M}} \\sigma^2_{\\underline{\\epsilon}_{\\underline{M}}}\\quad\n",
       "\\\\\n",
       "\\sigma^2_{\\underline{Y}} = \\alpha_{\\underline{Y}|\\underline{M}}^{2} \\sigma^2_{\\underline{\\epsilon}_{\\underline{M}}} + \\sigma^2_{\\underline{\\epsilon}_{\\underline{X}}} \\left(\\alpha_{\\underline{M}|\\underline{X}} \\alpha_{\\underline{Y}|\\underline{M}} + \\alpha_{\\underline{Y}|\\underline{X}}\\right)^{2} + \\sigma^2_{\\underline{\\epsilon}_{\\underline{Y}}} + \\sigma^2_{\\underline{\\epsilon}_{\\underline{Z}}} \\left(\\alpha_{\\underline{M}|\\underline{X}} \\alpha_{\\underline{X}|\\underline{Z}} \\alpha_{\\underline{Y}|\\underline{M}} + \\alpha_{\\underline{X}|\\underline{Z}} \\alpha_{\\underline{Y}|\\underline{X}} + \\alpha_{\\underline{Y}|\\underline{Z}}\\right)^{2}\\quad\n",
       "\\end{array}$"
      ],
      "text/plain": [
       "\\begin{array}{l}\n",
       "\\sigma^2_{\\underline{Z}} = \\sigma^2_{\\underline{\\epsilon}_{\\underline{Z}}}\\quad\n",
       "\\\\\n",
       "\\left\\langle\\underline{Z},\\underline{X}\\right\\rangle = \\alpha_{\\underline{X}|\\underline{Z}} \\sigma^2_{\\underline{\\epsilon}_{\\underline{Z}}}\\quad\n",
       "\\\\\n",
       "\\left\\langle\\underline{Z},\\underline{M}\\right\\rangle = \\alpha_{\\underline{M}|\\underline{X}} \\alpha_{\\underline{X}|\\underline{Z}} \\sigma^2_{\\underline{\\epsilon}_{\\underline{Z}}}\\quad\n",
       "\\\\\n",
       "\\left\\langle\\underline{Z},\\underline{Y}\\right\\rangle = \\sigma^2_{\\underline{\\epsilon}_{\\underline{Z}}} \\left(\\alpha_{\\underline{M}|\\underline{X}} \\alpha_{\\underline{X}|\\underline{Z}} \\alpha_{\\underline{Y}|\\underline{M}} + \\alpha_{\\underline{X}|\\underline{Z}} \\alpha_{\\underline{Y}|\\underline{X}} + \\alpha_{\\underline{Y}|\\underline{Z}}\\right)\\quad\n",
       "\\\\\n",
       "\\left\\langle\\underline{X},\\underline{Z}\\right\\rangle = \\alpha_{\\underline{X}|\\underline{Z}} \\sigma^2_{\\underline{\\epsilon}_{\\underline{Z}}}\\quad\n",
       "\\\\\n",
       "\\sigma^2_{\\underline{X}} = \\alpha_{\\underline{X}|\\underline{Z}}^{2} \\sigma^2_{\\underline{\\epsilon}_{\\underline{Z}}} + \\sigma^2_{\\underline{\\epsilon}_{\\underline{X}}}\\quad\n",
       "\\\\\n",
       "\\left\\langle\\underline{X},\\underline{M}\\right\\rangle = \\alpha_{\\underline{M}|\\underline{X}} \\left(\\alpha_{\\underline{X}|\\underline{Z}}^{2} \\sigma^2_{\\underline{\\epsilon}_{\\underline{Z}}} + \\sigma^2_{\\underline{\\epsilon}_{\\underline{X}}}\\right)\\quad\n",
       "\\\\\n",
       "\\left\\langle\\underline{X},\\underline{Y}\\right\\rangle = \\alpha_{\\underline{X}|\\underline{Z}} \\sigma^2_{\\underline{\\epsilon}_{\\underline{Z}}} \\left(\\alpha_{\\underline{M}|\\underline{X}} \\alpha_{\\underline{X}|\\underline{Z}} \\alpha_{\\underline{Y}|\\underline{M}} + \\alpha_{\\underline{X}|\\underline{Z}} \\alpha_{\\underline{Y}|\\underline{X}} + \\alpha_{\\underline{Y}|\\underline{Z}}\\right) + \\sigma^2_{\\underline{\\epsilon}_{\\underline{X}}} \\left(\\alpha_{\\underline{M}|\\underline{X}} \\alpha_{\\underline{Y}|\\underline{M}} + \\alpha_{\\underline{Y}|\\underline{X}}\\right)\\quad\n",
       "\\\\\n",
       "\\left\\langle\\underline{M},\\underline{Z}\\right\\rangle = \\alpha_{\\underline{M}|\\underline{X}} \\alpha_{\\underline{X}|\\underline{Z}} \\sigma^2_{\\underline{\\epsilon}_{\\underline{Z}}}\\quad\n",
       "\\\\\n",
       "\\left\\langle\\underline{M},\\underline{X}\\right\\rangle = \\alpha_{\\underline{M}|\\underline{X}} \\left(\\alpha_{\\underline{X}|\\underline{Z}}^{2} \\sigma^2_{\\underline{\\epsilon}_{\\underline{Z}}} + \\sigma^2_{\\underline{\\epsilon}_{\\underline{X}}}\\right)\\quad\n",
       "\\\\\n",
       "\\sigma^2_{\\underline{M}} = \\alpha_{\\underline{M}|\\underline{X}}^{2} \\alpha_{\\underline{X}|\\underline{Z}}^{2} \\sigma^2_{\\underline{\\epsilon}_{\\underline{Z}}} + \\alpha_{\\underline{M}|\\underline{X}}^{2} \\sigma^2_{\\underline{\\epsilon}_{\\underline{X}}} + \\sigma^2_{\\underline{\\epsilon}_{\\underline{M}}}\\quad\n",
       "\\\\\n",
       "\\left\\langle\\underline{M},\\underline{Y}\\right\\rangle = \\alpha_{\\underline{M}|\\underline{X}} \\alpha_{\\underline{X}|\\underline{Z}} \\sigma^2_{\\underline{\\epsilon}_{\\underline{Z}}} \\left(\\alpha_{\\underline{M}|\\underline{X}} \\alpha_{\\underline{X}|\\underline{Z}} \\alpha_{\\underline{Y}|\\underline{M}} + \\alpha_{\\underline{X}|\\underline{Z}} \\alpha_{\\underline{Y}|\\underline{X}} + \\alpha_{\\underline{Y}|\\underline{Z}}\\right) + \\alpha_{\\underline{M}|\\underline{X}} \\sigma^2_{\\underline{\\epsilon}_{\\underline{X}}} \\left(\\alpha_{\\underline{M}|\\underline{X}} \\alpha_{\\underline{Y}|\\underline{M}} + \\alpha_{\\underline{Y}|\\underline{X}}\\right) + \\alpha_{\\underline{Y}|\\underline{M}} \\sigma^2_{\\underline{\\epsilon}_{\\underline{M}}}\\quad\n",
       "\\\\\n",
       "\\left\\langle\\underline{Y},\\underline{Z}\\right\\rangle = \\sigma^2_{\\underline{\\epsilon}_{\\underline{Z}}} \\left(\\alpha_{\\underline{M}|\\underline{X}} \\alpha_{\\underline{X}|\\underline{Z}} \\alpha_{\\underline{Y}|\\underline{M}} + \\alpha_{\\underline{X}|\\underline{Z}} \\alpha_{\\underline{Y}|\\underline{X}} + \\alpha_{\\underline{Y}|\\underline{Z}}\\right)\\quad\n",
       "\\\\\n",
       "\\left\\langle\\underline{Y},\\underline{X}\\right\\rangle = \\alpha_{\\underline{X}|\\underline{Z}} \\sigma^2_{\\underline{\\epsilon}_{\\underline{Z}}} \\left(\\alpha_{\\underline{M}|\\underline{X}} \\alpha_{\\underline{X}|\\underline{Z}} \\alpha_{\\underline{Y}|\\underline{M}} + \\alpha_{\\underline{X}|\\underline{Z}} \\alpha_{\\underline{Y}|\\underline{X}} + \\alpha_{\\underline{Y}|\\underline{Z}}\\right) + \\sigma^2_{\\underline{\\epsilon}_{\\underline{X}}} \\left(\\alpha_{\\underline{M}|\\underline{X}} \\alpha_{\\underline{Y}|\\underline{M}} + \\alpha_{\\underline{Y}|\\underline{X}}\\right)\\quad\n",
       "\\\\\n",
       "\\left\\langle\\underline{Y},\\underline{M}\\right\\rangle = \\alpha_{\\underline{M}|\\underline{X}} \\alpha_{\\underline{X}|\\underline{Z}} \\sigma^2_{\\underline{\\epsilon}_{\\underline{Z}}} \\left(\\alpha_{\\underline{M}|\\underline{X}} \\alpha_{\\underline{X}|\\underline{Z}} \\alpha_{\\underline{Y}|\\underline{M}} + \\alpha_{\\underline{X}|\\underline{Z}} \\alpha_{\\underline{Y}|\\underline{X}} + \\alpha_{\\underline{Y}|\\underline{Z}}\\right) + \\alpha_{\\underline{M}|\\underline{X}} \\sigma^2_{\\underline{\\epsilon}_{\\underline{X}}} \\left(\\alpha_{\\underline{M}|\\underline{X}} \\alpha_{\\underline{Y}|\\underline{M}} + \\alpha_{\\underline{Y}|\\underline{X}}\\right) + \\alpha_{\\underline{Y}|\\underline{M}} \\sigma^2_{\\underline{\\epsilon}_{\\underline{M}}}\\quad\n",
       "\\\\\n",
       "\\sigma^2_{\\underline{Y}} = \\alpha_{\\underline{Y}|\\underline{M}}^{2} \\sigma^2_{\\underline{\\epsilon}_{\\underline{M}}} + \\sigma^2_{\\underline{\\epsilon}_{\\underline{X}}} \\left(\\alpha_{\\underline{M}|\\underline{X}} \\alpha_{\\underline{Y}|\\underline{M}} + \\alpha_{\\underline{Y}|\\underline{X}}\\right)^{2} + \\sigma^2_{\\underline{\\epsilon}_{\\underline{Y}}} + \\sigma^2_{\\underline{\\epsilon}_{\\underline{Z}}} \\left(\\alpha_{\\underline{M}|\\underline{X}} \\alpha_{\\underline{X}|\\underline{Z}} \\alpha_{\\underline{Y}|\\underline{M}} + \\alpha_{\\underline{X}|\\underline{Z}} \\alpha_{\\underline{Y}|\\underline{X}} + \\alpha_{\\underline{Y}|\\underline{Z}}\\right)^{2}\\quad\n",
       "\\end{array}"
      ]
     },
     "execution_count": 5,
     "metadata": {},
     "output_type": "execute_result"
    }
   ],
   "source": [
    "path = 'dot_atlas/table-2-fallacy-GMZ.dot'\n",
    "graph = Graph(path)\n",
    "graph.draw(jupyter=True)\n",
    "cal = CovMatCalculator(graph)\n",
    "cal.calculate_cov_mat()\n",
    "cal.print_cov_mat(verbose=True)"
   ]
  }
 ],
 "metadata": {
  "kernelspec": {
   "display_name": "Python 3 (ipykernel)",
   "language": "python",
   "name": "python3"
  },
  "language_info": {
   "codemirror_mode": {
    "name": "ipython",
    "version": 3
   },
   "file_extension": ".py",
   "mimetype": "text/x-python",
   "name": "python",
   "nbconvert_exporter": "python",
   "pygments_lexer": "ipython3",
   "version": "3.10.9"
  }
 },
 "nbformat": 4,
 "nbformat_minor": 5
}
